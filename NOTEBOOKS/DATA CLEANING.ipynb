{
 "cells": [
  {
   "cell_type": "code",
   "execution_count": 1,
   "id": "fe3dc18f-9c05-44f6-8cd4-cf2db74adb84",
   "metadata": {},
   "outputs": [
    {
     "name": "stdout",
     "output_type": "stream",
     "text": [
      "Jupyter is working!\n"
     ]
    }
   ],
   "source": [
    "import pandas as pd\n",
    "print(\"Jupyter is working!\")\n",
    "\n"
   ]
  },
  {
   "cell_type": "code",
   "execution_count": 7,
   "id": "6faee4d7-90aa-45a9-9cab-1812939e3a32",
   "metadata": {},
   "outputs": [
    {
     "name": "stderr",
     "output_type": "stream",
     "text": [
      "\u001b[31m\u001b[1mWARNING: This is a development server. Do not use it in a production deployment. Use a production WSGI server instead.\u001b[0m\n",
      " * Running on http://localhost:5000\n",
      "\u001b[33mPress CTRL+C to quit\u001b[0m\n"
     ]
    },
    {
     "name": "stdout",
     "output_type": "stream",
     "text": [
      "The autoreload extension is already loaded. To reload it, use:\n",
      "  %reload_ext autoreload\n"
     ]
    },
    {
     "name": "stderr",
     "output_type": "stream",
     "text": [
      "127.0.0.1 - - [08/Jun/2025 11:34:36] \"GET / HTTP/1.1\" 200 -\n",
      "127.0.0.1 - - [08/Jun/2025 11:34:36] \"\u001b[33mGET /favicon.ico HTTP/1.1\u001b[0m\" 404 -\n"
     ]
    }
   ],
   "source": [
    "%load_ext autoreload\n",
    "%autoreload 2\n",
    "from flask import Flask\n",
    "app = Flask(__name__)\n",
    "\n",
    "@app.route('/')\n",
    "def home():\n",
    "    return \"Flask is working!\"\n",
    "\n",
    "from werkzeug.serving import run_simple\n",
    "run_simple('localhost', 5000, app)\n"
   ]
  },
  {
   "cell_type": "code",
   "execution_count": 16,
   "id": "7c5a1332-160f-46a5-bb00-eaf78e2291d5",
   "metadata": {},
   "outputs": [
    {
     "name": "stdout",
     "output_type": "stream",
     "text": [
      "   YEAR  MO  DY  CLRSKY_SFC_SW_DWN    T2M  ALLSKY_SFC_SW_DWN   RH2M  WS2M  \\\n",
      "0  2020   1   1               6.35  26.84               4.35  81.59  1.95   \n",
      "1  2020   1   2               6.30  26.48               2.57  88.40  1.56   \n",
      "2  2020   1   3               6.33  26.61               3.18  84.16  1.68   \n",
      "3  2020   1   4               6.57  26.58               4.33  80.04  1.98   \n",
      "4  2020   1   5               6.49  26.51               4.57  79.85  1.85   \n",
      "\n",
      "   ALLSKY_SFC_LW_DWN  PRECTOTCORR  \n",
      "0               9.70         0.60  \n",
      "1               9.76        13.78  \n",
      "2               9.51         4.29  \n",
      "3               9.38         0.18  \n",
      "4               9.49         0.24  \n"
     ]
    }
   ],
   "source": [
    "import pandas as pd\n",
    "\n",
    "# Load the CSV file (no need to skip header rows since column names are now in the first row)\n",
    "df = pd.read_csv('data/NASA-POWER.csv')\n",
    "\n",
    "# Show the first few rows\n",
    "print(df.head())\n"
   ]
  },
  {
   "cell_type": "code",
   "execution_count": 15,
   "id": "0b2f7f71-92cd-4f5d-bcae-8796ba42e452",
   "metadata": {},
   "outputs": [
    {
     "name": "stdout",
     "output_type": "stream",
     "text": [
      "YEAR                   int64\n",
      "MO                     int64\n",
      "DY                     int64\n",
      "CLRSKY_SFC_SW_DWN     object\n",
      "T2M                  float64\n",
      "ALLSKY_SFC_SW_DWN     object\n",
      "RH2M                 float64\n",
      "WS2M                 float64\n",
      "ALLSKY_SFC_LW_DWN    float64\n",
      "PRECTOTCORR          float64\n",
      "dtype: object\n"
     ]
    }
   ],
   "source": [
    "# Check column names and data types\n",
    "print(df.dtypes)\n"
   ]
  },
  {
   "cell_type": "code",
   "execution_count": 14,
   "id": "4d659f48-be7d-4116-b58a-4443ca0b82ce",
   "metadata": {},
   "outputs": [
    {
     "name": "stdout",
     "output_type": "stream",
     "text": [
      "YEAR                   0\n",
      "MO                     0\n",
      "DY                     0\n",
      "CLRSKY_SFC_SW_DWN    306\n",
      "T2M                    0\n",
      "ALLSKY_SFC_SW_DWN      2\n",
      "RH2M                   0\n",
      "WS2M                   0\n",
      "ALLSKY_SFC_LW_DWN      0\n",
      "PRECTOTCORR            0\n",
      "dtype: int64\n"
     ]
    }
   ],
   "source": [
    "# Replace -999.0 with pd.NA\n",
    "df.replace(-999.0, pd.NA, inplace=True)\n",
    "\n",
    "# Check how many missing values there are\n",
    "print(df.isna().sum())\n",
    "\n"
   ]
  },
  {
   "cell_type": "code",
   "execution_count": 17,
   "id": "67990070-5a39-446b-847c-efa174f3bc5a",
   "metadata": {},
   "outputs": [
    {
     "name": "stdout",
     "output_type": "stream",
     "text": [
      "<class 'pandas.core.frame.DataFrame'>\n",
      "RangeIndex: 1981 entries, 0 to 1980\n",
      "Data columns (total 10 columns):\n",
      " #   Column             Non-Null Count  Dtype  \n",
      "---  ------             --------------  -----  \n",
      " 0   YEAR               1981 non-null   int64  \n",
      " 1   MO                 1981 non-null   int64  \n",
      " 2   DY                 1981 non-null   int64  \n",
      " 3   CLRSKY_SFC_SW_DWN  1981 non-null   float64\n",
      " 4   T2M                1981 non-null   float64\n",
      " 5   ALLSKY_SFC_SW_DWN  1981 non-null   float64\n",
      " 6   RH2M               1981 non-null   float64\n",
      " 7   WS2M               1981 non-null   float64\n",
      " 8   ALLSKY_SFC_LW_DWN  1981 non-null   float64\n",
      " 9   PRECTOTCORR        1981 non-null   float64\n",
      "dtypes: float64(7), int64(3)\n",
      "memory usage: 154.9 KB\n",
      "None\n"
     ]
    }
   ],
   "source": [
    "# Drop rows with any NaN values\n",
    "df_cleaned = df.dropna()\n",
    "\n",
    "# Confirm data shape and missing values\n",
    "print(df_cleaned.info())\n",
    "\n"
   ]
  },
  {
   "cell_type": "code",
   "execution_count": 19,
   "id": "cf880f57-9780-427f-956b-dac34c9f0e80",
   "metadata": {},
   "outputs": [
    {
     "name": "stdout",
     "output_type": "stream",
     "text": [
      "YEAR                   int64\n",
      "MO                     int64\n",
      "DY                     int64\n",
      "CLRSKY_SFC_SW_DWN    float64\n",
      "T2M                  float64\n",
      "ALLSKY_SFC_SW_DWN    float64\n",
      "RH2M                 float64\n",
      "WS2M                 float64\n",
      "ALLSKY_SFC_LW_DWN    float64\n",
      "PRECTOTCORR          float64\n",
      "dtype: object\n"
     ]
    }
   ],
   "source": [
    "print(df_cleaned.dtypes)"
   ]
  },
  {
   "cell_type": "code",
   "execution_count": 20,
   "id": "1c63fdef-a418-4d72-a44e-09f1399f3878",
   "metadata": {},
   "outputs": [
    {
     "name": "stdout",
     "output_type": "stream",
     "text": [
      "              YEAR           MO           DY  CLRSKY_SFC_SW_DWN          T2M  \\\n",
      "count  1981.000000  1981.000000  1981.000000        1981.000000  1981.000000   \n",
      "mean   2022.233216     6.252903    15.705704        -148.420475    27.893412   \n",
      "std       1.578942     3.463977     8.810331         363.645379     0.801796   \n",
      "min    2020.000000     1.000000     1.000000        -999.000000    25.070000   \n",
      "25%    2021.000000     3.000000     8.000000           6.390000    27.400000   \n",
      "50%    2022.000000     6.000000    16.000000           6.980000    27.980000   \n",
      "75%    2024.000000     9.000000    23.000000           7.200000    28.450000   \n",
      "max    2025.000000    12.000000    31.000000           9.140000    30.510000   \n",
      "\n",
      "       ALLSKY_SFC_SW_DWN         RH2M         WS2M  ALLSKY_SFC_LW_DWN  \\\n",
      "count        1981.000000  1981.000000  1981.000000        1981.000000   \n",
      "mean            3.954255    79.677441     1.508294           9.816280   \n",
      "std            31.912020     3.779722     0.358816           0.245262   \n",
      "min          -999.000000    65.250000     0.660000           8.980000   \n",
      "25%             4.350000    77.110000     1.270000           9.690000   \n",
      "50%             5.150000    79.440000     1.480000           9.790000   \n",
      "75%             5.750000    82.050000     1.690000           9.910000   \n",
      "max             7.510000    93.190000     3.730000          10.880000   \n",
      "\n",
      "       PRECTOTCORR  \n",
      "count  1981.000000  \n",
      "mean      5.942696  \n",
      "std      10.298375  \n",
      "min       0.000000  \n",
      "25%       1.090000  \n",
      "50%       2.920000  \n",
      "75%       6.650000  \n",
      "max     110.160000  \n"
     ]
    }
   ],
   "source": [
    "print(df_cleaned.describe())"
   ]
  },
  {
   "cell_type": "code",
   "execution_count": 22,
   "id": "f20a5c53-33c9-4a6e-8790-3d0d3fc8a3a4",
   "metadata": {},
   "outputs": [
    {
     "name": "stdout",
     "output_type": "stream",
     "text": [
      "      YEAR  MO  DY  CLRSKY_SFC_SW_DWN    T2M  ALLSKY_SFC_SW_DWN   RH2M  WS2M  \\\n",
      "1673  2024   7  31             -999.0  28.55               5.84  78.51  1.57   \n",
      "1674  2024   8   1             -999.0  28.41               5.05  78.56  1.75   \n",
      "1675  2024   8   2             -999.0  28.28               5.75  78.02  1.53   \n",
      "1676  2024   8   3             -999.0  28.76               6.22  74.62  1.45   \n",
      "1677  2024   8   4             -999.0  28.43               5.81  79.36  1.78   \n",
      "...    ...  ..  ..                ...    ...                ...    ...   ...   \n",
      "1976  2025   5  30             -999.0  28.49               6.31  78.15  1.33   \n",
      "1977  2025   5  31             -999.0  28.15               5.42  77.91  1.31   \n",
      "1978  2025   6   1             -999.0  28.46               5.16  75.62  1.08   \n",
      "1979  2025   6   2             -999.0  28.29               5.78  77.57  1.34   \n",
      "1980  2025   6   3             -999.0  27.45               3.07  80.63  1.52   \n",
      "\n",
      "      ALLSKY_SFC_LW_DWN  PRECTOTCORR  \n",
      "1673              10.23         4.99  \n",
      "1674              10.30         2.33  \n",
      "1675              10.17         1.98  \n",
      "1676              10.07         3.69  \n",
      "1677              10.13         3.27  \n",
      "...                 ...          ...  \n",
      "1976              10.25         4.34  \n",
      "1977              10.27        10.62  \n",
      "1978              10.37         8.06  \n",
      "1979              10.36        11.09  \n",
      "1980              10.56        14.35  \n",
      "\n",
      "[306 rows x 10 columns]\n"
     ]
    }
   ],
   "source": [
    "print(df[df.eq(-999.0).any(axis=1)])"
   ]
  },
  {
   "cell_type": "code",
   "execution_count": 24,
   "id": "fb4026f9-8e28-4ee8-b221-c2978191fde8",
   "metadata": {},
   "outputs": [
    {
     "name": "stdout",
     "output_type": "stream",
     "text": [
      "YEAR                   0\n",
      "MO                     0\n",
      "DY                     0\n",
      "CLRSKY_SFC_SW_DWN    306\n",
      "T2M                    0\n",
      "ALLSKY_SFC_SW_DWN      2\n",
      "RH2M                   0\n",
      "WS2M                   0\n",
      "ALLSKY_SFC_LW_DWN      0\n",
      "PRECTOTCORR            0\n",
      "dtype: int64\n"
     ]
    }
   ],
   "source": [
    "df.loc[df['CLRSKY_SFC_SW_DWN'] < -998, 'CLRSKY_SFC_SW_DWN'] = pd.NA\n",
    "df.loc[df['ALLSKY_SFC_SW_DWN'] < -998, 'ALLSKY_SFC_SW_DWN'] = pd.NA\n",
    "\n",
    "print(df.isna().sum())\n"
   ]
  },
  {
   "cell_type": "code",
   "execution_count": 25,
   "id": "c42e56c6-261f-4aec-a09d-115b9022e6a7",
   "metadata": {},
   "outputs": [
    {
     "name": "stdout",
     "output_type": "stream",
     "text": [
      "<class 'pandas.core.frame.DataFrame'>\n",
      "Index: 1675 entries, 0 to 1764\n",
      "Data columns (total 10 columns):\n",
      " #   Column             Non-Null Count  Dtype  \n",
      "---  ------             --------------  -----  \n",
      " 0   YEAR               1675 non-null   int64  \n",
      " 1   MO                 1675 non-null   int64  \n",
      " 2   DY                 1675 non-null   int64  \n",
      " 3   CLRSKY_SFC_SW_DWN  1675 non-null   float64\n",
      " 4   T2M                1675 non-null   float64\n",
      " 5   ALLSKY_SFC_SW_DWN  1675 non-null   float64\n",
      " 6   RH2M               1675 non-null   float64\n",
      " 7   WS2M               1675 non-null   float64\n",
      " 8   ALLSKY_SFC_LW_DWN  1675 non-null   float64\n",
      " 9   PRECTOTCORR        1675 non-null   float64\n",
      "dtypes: float64(7), int64(3)\n",
      "memory usage: 143.9 KB\n",
      "None\n"
     ]
    }
   ],
   "source": [
    "df_cleaned = df.dropna()\n",
    "print(df_cleaned.info())\n"
   ]
  },
  {
   "cell_type": "code",
   "execution_count": 26,
   "id": "62e5a2e3-da58-4a09-9747-adae788f043b",
   "metadata": {},
   "outputs": [
    {
     "name": "stdout",
     "output_type": "stream",
     "text": [
      "              YEAR           MO           DY  CLRSKY_SFC_SW_DWN          T2M  \\\n",
      "count  1675.000000  1675.000000  1675.000000        1675.000000  1675.000000   \n",
      "mean   2021.818507     6.207164    15.733731           6.968979    27.865528   \n",
      "std       1.337544     3.407343     8.801245           0.378499     0.816078   \n",
      "min    2020.000000     1.000000     1.000000           5.930000    25.070000   \n",
      "25%    2021.000000     3.000000     8.000000           6.715000    27.365000   \n",
      "50%    2022.000000     6.000000    16.000000           7.050000    27.950000   \n",
      "75%    2023.000000     9.000000    23.000000           7.240000    28.410000   \n",
      "max    2024.000000    12.000000    31.000000           9.140000    30.510000   \n",
      "\n",
      "       ALLSKY_SFC_SW_DWN         RH2M         WS2M  ALLSKY_SFC_LW_DWN  \\\n",
      "count        1675.000000  1675.000000  1675.000000        1675.000000   \n",
      "mean            5.019725    79.571164     1.512609           9.743970   \n",
      "std             1.084162     3.853669     0.352027           0.164507   \n",
      "min             0.460000    65.250000     0.660000           8.980000   \n",
      "25%             4.430000    76.925000     1.275000           9.670000   \n",
      "50%             5.170000    79.320000     1.490000           9.760000   \n",
      "75%             5.740000    82.010000     1.700000           9.850000   \n",
      "max             7.510000    93.000000     3.590000          10.370000   \n",
      "\n",
      "       PRECTOTCORR  \n",
      "count  1675.000000  \n",
      "mean      6.091045  \n",
      "std      10.654471  \n",
      "min       0.000000  \n",
      "25%       1.000000  \n",
      "50%       2.880000  \n",
      "75%       6.845000  \n",
      "max     110.160000  \n"
     ]
    }
   ],
   "source": [
    "print(df_cleaned.describe())"
   ]
  },
  {
   "cell_type": "code",
   "execution_count": 27,
   "id": "93a39aea-eaf4-43b6-b9c8-fca1f735377e",
   "metadata": {},
   "outputs": [
    {
     "name": "stdout",
     "output_type": "stream",
     "text": [
      "YEAR                 0\n",
      "MO                   0\n",
      "DY                   0\n",
      "CLRSKY_SFC_SW_DWN    0\n",
      "T2M                  0\n",
      "ALLSKY_SFC_SW_DWN    0\n",
      "RH2M                 0\n",
      "WS2M                 0\n",
      "ALLSKY_SFC_LW_DWN    0\n",
      "PRECTOTCORR          0\n",
      "dtype: int64\n"
     ]
    }
   ],
   "source": [
    "print(df_cleaned.isna().sum())"
   ]
  },
  {
   "cell_type": "code",
   "execution_count": 28,
   "id": "3b0bbf62-8715-4a4f-a24d-872fe71aa1c1",
   "metadata": {},
   "outputs": [],
   "source": [
    "# Save the cleaned data to a new CSV file\n",
    "df_cleaned.to_csv('data/NASA-POWER_CLEANED.csv', index=False)"
   ]
  },
  {
   "cell_type": "code",
   "execution_count": null,
   "id": "4b942ec5-d70b-4ab3-86c2-8f546600b0b5",
   "metadata": {},
   "outputs": [],
   "source": []
  }
 ],
 "metadata": {
  "kernelspec": {
   "display_name": "Python 3 (ipykernel)",
   "language": "python",
   "name": "python3"
  },
  "language_info": {
   "codemirror_mode": {
    "name": "ipython",
    "version": 3
   },
   "file_extension": ".py",
   "mimetype": "text/x-python",
   "name": "python",
   "nbconvert_exporter": "python",
   "pygments_lexer": "ipython3",
   "version": "3.8.10"
  }
 },
 "nbformat": 4,
 "nbformat_minor": 5
}
